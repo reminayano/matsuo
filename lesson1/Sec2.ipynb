{
 "cells": [
  {
   "cell_type": "markdown",
   "metadata": {},
   "source": [
    "## Section2 実装①\n",
    "### 2.1 MNISTによるMLPの復習"
   ]
  },
  {
   "cell_type": "code",
   "execution_count": 2,
   "metadata": {},
   "outputs": [
    {
     "name": "stderr",
     "output_type": "stream",
     "text": [
      "C:\\Users\\yanor\\Anaconda3\\envs\\matsuo\\lib\\site-packages\\h5py\\__init__.py:36: FutureWarning: Conversion of the second argument of issubdtype from `float` to `np.floating` is deprecated. In future, it will be treated as `np.float64 == np.dtype(float).type`.\n",
      "  from ._conv import register_converters as _register_converters\n",
      "Using TensorFlow backend.\n"
     ]
    }
   ],
   "source": [
    "# データのロード\n",
    "from keras.datasets import mnist\n",
    "\n",
    "(x_train, y_train), (x_test, y_test) = mnist.load_data()"
   ]
  },
  {
   "cell_type": "code",
   "execution_count": 3,
   "metadata": {},
   "outputs": [],
   "source": [
    "# データの整形\n",
    "from keras.utils import to_categorical\n",
    "\n",
    "x_train = x_train.reshape(-1, 784)\n",
    "x_test = x_test.reshape(-1, 784)\n",
    "\n",
    "y_train = to_categorical(y_train)\n",
    "y_test = to_categorical(y_test)"
   ]
  },
  {
   "cell_type": "code",
   "execution_count": 4,
   "metadata": {},
   "outputs": [],
   "source": [
    "# モデル構築\n",
    "from keras.models import Sequential\n",
    "from keras.layers import Dense, Activation\n",
    "\n",
    "model = Sequential()\n",
    "\n",
    "model.add(Dense(units=256, input_shape=(784,)))\n",
    "model.add(Activation('relu'))\n",
    "model.add(Dense(units=100))\n",
    "model.add(Activation('relu'))\n",
    "model.add(Dense(units=10))\n",
    "model.add(Activation('softmax'))\n",
    "\n",
    "model.compile(loss='categorical_crossentropy', optimizer='sgd', metrics=['accuracy'])"
   ]
  },
  {
   "cell_type": "code",
   "execution_count": 5,
   "metadata": {},
   "outputs": [
    {
     "name": "stdout",
     "output_type": "stream",
     "text": [
      "Train on 60000 samples, validate on 10000 samples\n",
      "Epoch 1/10\n",
      "60000/60000 [==============================] - 6s 108us/step - loss: 7.8804 - acc: 0.4984 - val_loss: 4.4181 - val_acc: 0.7145\n",
      "Epoch 2/10\n",
      "60000/60000 [==============================] - 6s 98us/step - loss: 4.3034 - acc: 0.7232 - val_loss: 4.0504 - val_acc: 0.7404\n",
      "Epoch 3/10\n",
      "60000/60000 [==============================] - 6s 94us/step - loss: 3.9796 - acc: 0.7452 - val_loss: 3.9244 - val_acc: 0.7482\n",
      "Epoch 4/10\n",
      "60000/60000 [==============================] - 6s 92us/step - loss: 3.8690 - acc: 0.7531 - val_loss: 3.8404 - val_acc: 0.7541\n",
      "Epoch 5/10\n",
      "60000/60000 [==============================] - 6s 97us/step - loss: 3.7543 - acc: 0.7604 - val_loss: 3.7190 - val_acc: 0.7618\n",
      "Epoch 6/10\n",
      "60000/60000 [==============================] - 6s 96us/step - loss: 2.6457 - acc: 0.8263 - val_loss: 2.2672 - val_acc: 0.8511\n",
      "Epoch 7/10\n",
      "60000/60000 [==============================] - 6s 94us/step - loss: 1.5310 - acc: 0.8943 - val_loss: 0.7786 - val_acc: 0.9406\n",
      "Epoch 8/10\n",
      "60000/60000 [==============================] - 5s 91us/step - loss: 0.6795 - acc: 0.9477 - val_loss: 0.6447 - val_acc: 0.9490\n",
      "Epoch 9/10\n",
      "60000/60000 [==============================] - 6s 94us/step - loss: 0.5650 - acc: 0.9562 - val_loss: 0.6112 - val_acc: 0.9536\n",
      "Epoch 10/10\n",
      "60000/60000 [==============================] - 6s 100us/step - loss: 0.4920 - acc: 0.9613 - val_loss: 0.5782 - val_acc: 0.9539\n"
     ]
    },
    {
     "data": {
      "text/plain": [
       "<keras.callbacks.History at 0x1ba69d87f60>"
      ]
     },
     "execution_count": 5,
     "metadata": {},
     "output_type": "execute_result"
    }
   ],
   "source": [
    "# 学習\n",
    "model.fit(x_train, y_train, batch_size=1000, epochs=10, verbose=1, validation_data=(x_test, y_test))"
   ]
  },
  {
   "cell_type": "code",
   "execution_count": 6,
   "metadata": {},
   "outputs": [
    {
     "name": "stdout",
     "output_type": "stream",
     "text": [
      "Test loss: 0.5781988041034954\n",
      "Test accuracy: 0.9539\n"
     ]
    }
   ],
   "source": [
    "# 性能評価\n",
    "score = model.evaluate(x_test, y_test, verbose=0)\n",
    "print('Test loss:', score[0])\n",
    "print('Test accuracy:', score[1])"
   ]
  },
  {
   "cell_type": "code",
   "execution_count": null,
   "metadata": {},
   "outputs": [],
   "source": []
  }
 ],
 "metadata": {
  "kernelspec": {
   "display_name": "Python 3",
   "language": "python",
   "name": "python3"
  }
 },
 "nbformat": 4,
 "nbformat_minor": 2
}
