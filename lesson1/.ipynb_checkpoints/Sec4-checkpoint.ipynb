{
 "cells": [
  {
   "cell_type": "markdown",
   "metadata": {},
   "source": [
    "## Section4 実装②\n",
    "\n",
    "復習として、ファッションデータの分類をMLPを用いて行ってみる。\n",
    "\n",
    "### 4.1 FashionMNIST"
   ]
  },
  {
   "cell_type": "code",
   "execution_count": 1,
   "metadata": {},
   "outputs": [
    {
     "name": "stderr",
     "output_type": "stream",
     "text": [
      "C:\\Users\\yanor\\Anaconda3\\envs\\matsuo\\lib\\site-packages\\h5py\\__init__.py:36: FutureWarning: Conversion of the second argument of issubdtype from `float` to `np.floating` is deprecated. In future, it will be treated as `np.float64 == np.dtype(float).type`.\n",
      "  from ._conv import register_converters as _register_converters\n",
      "Using TensorFlow backend.\n"
     ]
    }
   ],
   "source": [
    "# データのロード\n",
    "from keras.datasets import fashion_mnist\n",
    "\n",
    "(x_train, y_train), (x_test, y_test) = fashion_mnist.load_data()"
   ]
  },
  {
   "cell_type": "code",
   "execution_count": 2,
   "metadata": {},
   "outputs": [
    {
     "name": "stdout",
     "output_type": "stream",
     "text": [
      "(60000, 28, 28)\n",
      "(10000, 28, 28)\n"
     ]
    }
   ],
   "source": [
    "# データセットの大きさ確認\n",
    "print(x_train.shape) # 訓練データのサイズ\n",
    "print(x_test.shape) # テストデータのサイズ"
   ]
  },
  {
   "cell_type": "code",
   "execution_count": 3,
   "metadata": {},
   "outputs": [
    {
     "data": {
      "image/png": "[encoded data removed]",
      "text/plain": [
       "<matplotlib.figure.Figure at 0x2cbca219748>"
      ]
     },
     "metadata": {},
     "output_type": "display_data"
    }
   ],
   "source": [
    "# データセットの表示\n",
    "%matplotlib inline\n",
    "import matplotlib.pyplot as plt\n",
    "\n",
    "fig = plt.figure(figsize=(9, 15))\n",
    "fig.subplots_adjust(left=0, right=1, bottom=0, top=0.5, hspace=0.05, wspace=0.05)\n",
    "\n",
    "for i in range(9):\n",
    "    ax = fig.add_subplot(1, 9, i + 1, xticks=[], yticks=[])\n",
    "    ax.imshow(x_train[i], cmap='gray')"
   ]
  },
  {
   "cell_type": "markdown",
   "metadata": {},
   "source": [
    "### 4.2 実装"
   ]
  },
  {
   "cell_type": "code",
   "execution_count": 5,
   "metadata": {},
   "outputs": [],
   "source": [
    "# データの整形\n",
    "from keras.utils import to_categorical\n",
    "\n",
    "x_train = x_train.reshape(-1, 784) / 255\n",
    "x_test = x_test.reshape(-1, 784) /255\n",
    "y_train = to_categorical(y_train)\n",
    "y_test = to_categorical(y_test)"
   ]
  },
  {
   "cell_type": "code",
   "execution_count": 6,
   "metadata": {},
   "outputs": [],
   "source": [
    "# モデル構築\n",
    "from keras.models import Sequential\n",
    "from keras.layers import Dense, Activation, Dropout\n",
    "\n",
    "model = Sequential()\n",
    "\n",
    "model.add(Dense(512, input_shape=(784,), activation='relu', kernel_initializer='he_normal'))\n",
    "model.add(Dense(256, activation='relu', kernel_initializer='he_normal'))\n",
    "model.add(Dense(128, activation='relu', kernel_initializer='he_normal'))\n",
    "model.add(Dropout(0.3))\n",
    "model.add(Dense(64, activation='relu', kernel_initializer='he_normal'))\n",
    "model.add(Dense(32, activation='relu', kernel_initializer='he_normal'))\n",
    "model.add(Dense(10, activation='softmax'))\n",
    "\n",
    "model.compile(loss='categorical_crossentropy', optimizer='adam', metrics=['accuracy'])\n",
    "\n",
    "# 比較用にsection2と類似のモデルを準備\n",
    "model0 = Sequential()\n",
    "\n",
    "model0.add(Dense(units=256, input_shape=(784,)))\n",
    "model0.add(Activation('relu'))\n",
    "model0.add(Dense(units=100))\n",
    "model0.add(Activation('relu'))\n",
    "model0.add(Dense(units=10))\n",
    "model0.add(Activation('softmax'))\n",
    "\n",
    "model0.compile(loss='categorical_crossentropy', optimizer='sgd', metrics=['accuracy'])"
   ]
  },
  {
   "cell_type": "code",
   "execution_count": 8,
   "metadata": {},
   "outputs": [
    {
     "name": "stdout",
     "output_type": "stream",
     "text": [
      "Train on 60000 samples, validate on 10000 samples\n",
      "Epoch 1/10\n",
      " - 7s - loss: 0.8576 - acc: 0.7038 - val_loss: 0.4909 - val_acc: 0.8313\n",
      "Epoch 2/10\n",
      " - 7s - loss: 0.4588 - acc: 0.8380 - val_loss: 0.4236 - val_acc: 0.8497\n",
      "Epoch 3/10\n",
      " - 8s - loss: 0.4012 - acc: 0.8557 - val_loss: 0.4112 - val_acc: 0.8553\n",
      "Epoch 4/10\n",
      " - 9s - loss: 0.3635 - acc: 0.8681 - val_loss: 0.3732 - val_acc: 0.8657\n",
      "Epoch 5/10\n",
      " - 8s - loss: 0.3332 - acc: 0.8800 - val_loss: 0.3583 - val_acc: 0.8716\n",
      "Epoch 6/10\n",
      " - 9s - loss: 0.3156 - acc: 0.8852 - val_loss: 0.3506 - val_acc: 0.8713\n",
      "Epoch 7/10\n",
      " - 9s - loss: 0.3021 - acc: 0.8899 - val_loss: 0.3440 - val_acc: 0.8760\n",
      "Epoch 8/10\n",
      " - 8s - loss: 0.2878 - acc: 0.8937 - val_loss: 0.3271 - val_acc: 0.8809\n",
      "Epoch 9/10\n",
      " - 8s - loss: 0.2738 - acc: 0.8998 - val_loss: 0.3349 - val_acc: 0.8826\n",
      "Epoch 10/10\n",
      " - 9s - loss: 0.2613 - acc: 0.9034 - val_loss: 0.3267 - val_acc: 0.8853\n",
      "Train on 60000 samples, validate on 10000 samples\n",
      "Epoch 1/10\n",
      " - 5s - loss: 1.8644 - acc: 0.4536 - val_loss: 1.4930 - val_acc: 0.6305\n",
      "Epoch 2/10\n",
      " - 4s - loss: 1.2844 - acc: 0.6533 - val_loss: 1.1337 - val_acc: 0.6580\n",
      "Epoch 3/10\n",
      " - 4s - loss: 1.0336 - acc: 0.6793 - val_loss: 0.9695 - val_acc: 0.6819\n",
      "Epoch 4/10\n",
      " - 4s - loss: 0.9083 - acc: 0.7041 - val_loss: 0.8782 - val_acc: 0.7027\n",
      "Epoch 5/10\n",
      " - 4s - loss: 0.8328 - acc: 0.7253 - val_loss: 0.8193 - val_acc: 0.7238\n",
      "Epoch 6/10\n",
      " - 4s - loss: 0.7807 - acc: 0.7435 - val_loss: 0.7755 - val_acc: 0.7380\n",
      "Epoch 7/10\n",
      " - 3s - loss: 0.7415 - acc: 0.7563 - val_loss: 0.7418 - val_acc: 0.7483\n",
      "Epoch 8/10\n",
      " - 3s - loss: 0.7104 - acc: 0.7662 - val_loss: 0.7150 - val_acc: 0.7605\n",
      "Epoch 9/10\n",
      " - 4s - loss: 0.6845 - acc: 0.7747 - val_loss: 0.6917 - val_acc: 0.7681\n",
      "Epoch 10/10\n",
      " - 4s - loss: 0.6623 - acc: 0.7826 - val_loss: 0.6711 - val_acc: 0.7755\n"
     ]
    },
    {
     "data": {
      "text/plain": [
       "<keras.callbacks.History at 0x2cbca219390>"
      ]
     },
     "execution_count": 8,
     "metadata": {},
     "output_type": "execute_result"
    }
   ],
   "source": [
    "# 学習\n",
    "from keras.callbacks import EarlyStopping\n",
    "\n",
    "early_stopping = EarlyStopping(patience=10, verbose=1)\n",
    "\n",
    "model.fit(x_train, y_train, batch_size=1000, verbose=2, epochs=10, validation_data=(x_test, y_test), callbacks=[early_stopping])\n",
    "model0.fit(x_train, y_train, batch_size=1000, verbose=2, epochs=10, validation_data=(x_test, y_test))"
   ]
  },
  {
   "cell_type": "code",
   "execution_count": 9,
   "metadata": {},
   "outputs": [
    {
     "name": "stdout",
     "output_type": "stream",
     "text": [
      "Test loss: 0.32667401411533353\n",
      "Test accuracy: 0.8853\n",
      "Test loss by model0: 0.6711148373603821\n",
      "Test accuracy by model0: 0.7755\n"
     ]
    }
   ],
   "source": [
    "# 性能評価\n",
    "score = model.evaluate(x_test, y_test, verbose=0)\n",
    "print('Test loss:', score[0])\n",
    "print('Test accuracy:', score[1])\n",
    "score0 = model0.evaluate(x_test, y_test, verbose=0)\n",
    "print('Test loss by model0:', score0[0])\n",
    "print('Test accuracy by model0:', score0[1])"
   ]
  },
  {
   "cell_type": "code",
   "execution_count": null,
   "metadata": {},
   "outputs": [],
   "source": []
  }
 ],
 "metadata": {
  "kernelspec": {
   "display_name": "Python 3",
   "language": "python",
   "name": "python3"
  },
  "language_info": {
   "codemirror_mode": {
    "name": "ipython",
    "version": 3
   },
   "file_extension": ".py",
   "mimetype": "text/x-python",
   "name": "python",
   "nbconvert_exporter": "python",
   "pygments_lexer": "ipython3",
   "version": "3.6.4"
  }
 },
 "nbformat": 4,
 "nbformat_minor": 2
}
