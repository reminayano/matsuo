{
 "cells": [
  {
   "cell_type": "code",
   "execution_count": 1,
   "metadata": {
    "scrolled": true
   },
   "outputs": [
    {
     "name": "stderr",
     "output_type": "stream",
     "text": [
      "C:\\Users\\yanor\\Anaconda3\\envs\\matsuo\\lib\\site-packages\\h5py\\__init__.py:36: FutureWarning: Conversion of the second argument of issubdtype from `float` to `np.floating` is deprecated. In future, it will be treated as `np.float64 == np.dtype(float).type`.\n",
      "  from ._conv import register_converters as _register_converters\n",
      "Using TensorFlow backend.\n"
     ]
    }
   ],
   "source": [
    "from keras.datasets import mnist\n",
    "(x_train, y_train), (x_test, y_test) = mnist.load_data() "
   ]
  },
  {
   "cell_type": "code",
   "execution_count": 2,
   "metadata": {},
   "outputs": [
    {
     "data": {
      "image/png": "[encoded data removed]",
      "text/plain": [
       "<matplotlib.figure.Figure at 0x1badab1eef0>"
      ]
     },
     "metadata": {},
     "output_type": "display_data"
    }
   ],
   "source": [
    "%matplotlib inline\n",
    "import matplotlib.pyplot as plt\n",
    "\n",
    "fig = plt.figure(figsize=(9, 15))\n",
    "fig.subplots_adjust(left=0, right=1, bottom=0, top=0.5, hspace=0.05, wspace=0.05)\n",
    "\n",
    "# 各MNIST画像の上に（タイトルとして）対応するラベルを表示\n",
    "for i in range(9):\n",
    "    ax = fig.add_subplot(1, 9, i + 1, xticks=[], yticks=[])\n",
    "    ax.set_title(str(y_train[i]))\n",
    "    ax.imshow(x_train[i], cmap='gray')"
   ]
  },
  {
   "cell_type": "code",
   "execution_count": 3,
   "metadata": {},
   "outputs": [],
   "source": [
    "from keras.utils import to_categorical\n",
    "\n",
    "# 入力画像を行列(28x28)からベクトル(長さ784)に変換\n",
    "x_train = x_train.reshape(-1, 784)\n",
    "x_test = x_test.reshape(-1, 784)\n",
    "\n",
    "# 名義尺度の値をone-hot表現へ変換\n",
    "y_train = to_categorical(y_train)\n",
    "y_test = to_categorical(y_test)"
   ]
  },
  {
   "cell_type": "code",
   "execution_count": 4,
   "metadata": {},
   "outputs": [],
   "source": [
    "from keras.models import Sequential\n",
    "from keras.layers import Dense, Activation\n",
    "\n",
    "# モデルの「容器」を作成\n",
    "model = Sequential()\n",
    "\n",
    "# 「容器」へ各layer（Dense, Activation）を積み重ねていく（追加した順に配置されるので注意）\n",
    "# 最初のlayerはinput_shapeを指定して、入力するデータの次元を与える必要がある\n",
    "model.add(Dense(units=256, input_shape=(784,)))\n",
    "model.add(Activation('relu'))\n",
    "model.add(Dense(units=100))\n",
    "model.add(Activation('relu'))\n",
    "model.add(Dense(units=10))\n",
    "model.add(Activation('softmax'))\n",
    "\n",
    "# モデルの学習方法について指定しておく\n",
    "model.compile(loss='categorical_crossentropy',\n",
    "              optimizer='sgd',\n",
    "              metrics=['accuracy'])"
   ]
  },
  {
   "cell_type": "code",
   "execution_count": 5,
   "metadata": {},
   "outputs": [
    {
     "name": "stdout",
     "output_type": "stream",
     "text": [
      "Train on 60000 samples, validate on 10000 samples\n",
      "Epoch 1/10\n",
      "60000/60000 [==============================] - 12s 199us/step - loss: 8.4964 - acc: 0.4644 - val_loss: 6.2161 - val_acc: 0.6057\n",
      "Epoch 2/10\n",
      "60000/60000 [==============================] - 7s 122us/step - loss: 5.7872 - acc: 0.6347 - val_loss: 5.6690 - val_acc: 0.6437\n",
      "Epoch 3/10\n",
      "60000/60000 [==============================] - 8s 130us/step - loss: 5.5543 - acc: 0.6509 - val_loss: 5.5068 - val_acc: 0.6538\n",
      "Epoch 4/10\n",
      "60000/60000 [==============================] - 7s 113us/step - loss: 5.4260 - acc: 0.6586 - val_loss: 5.4629 - val_acc: 0.6567\n",
      "Epoch 5/10\n",
      "60000/60000 [==============================] - 6s 99us/step - loss: 5.3658 - acc: 0.6630 - val_loss: 5.4171 - val_acc: 0.6591\n",
      "Epoch 6/10\n",
      "60000/60000 [==============================] - 6s 102us/step - loss: 4.1356 - acc: 0.7358 - val_loss: 2.4180 - val_acc: 0.8415\n",
      "Epoch 7/10\n",
      "60000/60000 [==============================] - 6s 94us/step - loss: 2.2350 - acc: 0.8541 - val_loss: 2.2222 - val_acc: 0.8552\n",
      "Epoch 8/10\n",
      "60000/60000 [==============================] - 6s 100us/step - loss: 2.1086 - acc: 0.8631 - val_loss: 2.1494 - val_acc: 0.8596\n",
      "Epoch 9/10\n",
      "60000/60000 [==============================] - 6s 96us/step - loss: 2.0384 - acc: 0.8684 - val_loss: 2.0784 - val_acc: 0.8664\n",
      "Epoch 10/10\n",
      "60000/60000 [==============================] - 6s 103us/step - loss: 1.9787 - acc: 0.8725 - val_loss: 2.1011 - val_acc: 0.8636\n"
     ]
    },
    {
     "data": {
      "text/plain": [
       "<keras.callbacks.History at 0x1badab1e2e8>"
      ]
     },
     "execution_count": 5,
     "metadata": {},
     "output_type": "execute_result"
    }
   ],
   "source": [
    "model.fit(x_train, y_train,\n",
    "          batch_size=1000, epochs=10, verbose=1,\n",
    "          validation_data=(x_test, y_test))"
   ]
  },
  {
   "cell_type": "code",
   "execution_count": 6,
   "metadata": {},
   "outputs": [
    {
     "name": "stdout",
     "output_type": "stream",
     "text": [
      "Test loss: 2.101090726085752\n",
      "Test accuracy: 0.8636\n"
     ]
    }
   ],
   "source": [
    "score = model.evaluate(x_test, y_test, verbose=0)\n",
    "print('Test loss:', score[0])\n",
    "print('Test accuracy:', score[1])"
   ]
  },
  {
   "cell_type": "code",
   "execution_count": 7,
   "metadata": {
    "scrolled": true
   },
   "outputs": [
    {
     "data": {
      "image/svg+xml": [
       "<svg height=\"553pt\" viewBox=\"0.00 0.00 313.00 553.00\" width=\"313pt\" xmlns=\"http://www.w3.org/2000/svg\" xmlns:xlink=\"http://www.w3.org/1999/xlink\">\n",
       "<g class=\"graph\" id=\"graph0\" transform=\"scale(1 1) rotate(0) translate(4 549)\">\n",
       "<title>G</title>\n",
       "<polygon fill=\"white\" points=\"-4,4 -4,-549 309,-549 309,4 -4,4\" stroke=\"none\"/>\n",
       "<!-- 1902112566072 -->\n",
       "<g class=\"node\" id=\"node1\"><title>1902112566072</title>\n",
       "<polygon fill=\"none\" points=\"0,-498.5 0,-544.5 305,-544.5 305,-498.5 0,-498.5\" stroke=\"black\"/>\n",
       "<text font-family=\"Times New Roman,serif\" font-size=\"14.00\" text-anchor=\"middle\" x=\"83\" y=\"-517.8\">dense_1_input: InputLayer</text>\n",
       "<polyline fill=\"none\" points=\"166,-498.5 166,-544.5 \" stroke=\"black\"/>\n",
       "<text font-family=\"Times New Roman,serif\" font-size=\"14.00\" text-anchor=\"middle\" x=\"194\" y=\"-529.3\">input:</text>\n",
       "<polyline fill=\"none\" points=\"166,-521.5 222,-521.5 \" stroke=\"black\"/>\n",
       "<text font-family=\"Times New Roman,serif\" font-size=\"14.00\" text-anchor=\"middle\" x=\"194\" y=\"-506.3\">output:</text>\n",
       "<polyline fill=\"none\" points=\"222,-498.5 222,-544.5 \" stroke=\"black\"/>\n",
       "<text font-family=\"Times New Roman,serif\" font-size=\"14.00\" text-anchor=\"middle\" x=\"263.5\" y=\"-529.3\">(None, 784)</text>\n",
       "<polyline fill=\"none\" points=\"222,-521.5 305,-521.5 \" stroke=\"black\"/>\n",
       "<text font-family=\"Times New Roman,serif\" font-size=\"14.00\" text-anchor=\"middle\" x=\"263.5\" y=\"-506.3\">(None, 784)</text>\n",
       "</g>\n",
       "<!-- 1902107400232 -->\n",
       "<g class=\"node\" id=\"node2\"><title>1902107400232</title>\n",
       "<polygon fill=\"none\" points=\"31,-415.5 31,-461.5 274,-461.5 274,-415.5 31,-415.5\" stroke=\"black\"/>\n",
       "<text font-family=\"Times New Roman,serif\" font-size=\"14.00\" text-anchor=\"middle\" x=\"83\" y=\"-434.8\">dense_1: Dense</text>\n",
       "<polyline fill=\"none\" points=\"135,-415.5 135,-461.5 \" stroke=\"black\"/>\n",
       "<text font-family=\"Times New Roman,serif\" font-size=\"14.00\" text-anchor=\"middle\" x=\"163\" y=\"-446.3\">input:</text>\n",
       "<polyline fill=\"none\" points=\"135,-438.5 191,-438.5 \" stroke=\"black\"/>\n",
       "<text font-family=\"Times New Roman,serif\" font-size=\"14.00\" text-anchor=\"middle\" x=\"163\" y=\"-423.3\">output:</text>\n",
       "<polyline fill=\"none\" points=\"191,-415.5 191,-461.5 \" stroke=\"black\"/>\n",
       "<text font-family=\"Times New Roman,serif\" font-size=\"14.00\" text-anchor=\"middle\" x=\"232.5\" y=\"-446.3\">(None, 784)</text>\n",
       "<polyline fill=\"none\" points=\"191,-438.5 274,-438.5 \" stroke=\"black\"/>\n",
       "<text font-family=\"Times New Roman,serif\" font-size=\"14.00\" text-anchor=\"middle\" x=\"232.5\" y=\"-423.3\">(None, 256)</text>\n",
       "</g>\n",
       "<!-- 1902112566072&#45;&gt;1902107400232 -->\n",
       "<g class=\"edge\" id=\"edge1\"><title>1902112566072-&gt;1902107400232</title>\n",
       "<path d=\"M152.5,-498.366C152.5,-490.152 152.5,-480.658 152.5,-471.725\" fill=\"none\" stroke=\"black\"/>\n",
       "<polygon fill=\"black\" points=\"156,-471.607 152.5,-461.607 149,-471.607 156,-471.607\" stroke=\"black\"/>\n",
       "</g>\n",
       "<!-- 1902112496944 -->\n",
       "<g class=\"node\" id=\"node3\"><title>1902112496944</title>\n",
       "<polygon fill=\"none\" points=\"9,-332.5 9,-378.5 296,-378.5 296,-332.5 9,-332.5\" stroke=\"black\"/>\n",
       "<text font-family=\"Times New Roman,serif\" font-size=\"14.00\" text-anchor=\"middle\" x=\"83\" y=\"-351.8\">activation_1: Activation</text>\n",
       "<polyline fill=\"none\" points=\"157,-332.5 157,-378.5 \" stroke=\"black\"/>\n",
       "<text font-family=\"Times New Roman,serif\" font-size=\"14.00\" text-anchor=\"middle\" x=\"185\" y=\"-363.3\">input:</text>\n",
       "<polyline fill=\"none\" points=\"157,-355.5 213,-355.5 \" stroke=\"black\"/>\n",
       "<text font-family=\"Times New Roman,serif\" font-size=\"14.00\" text-anchor=\"middle\" x=\"185\" y=\"-340.3\">output:</text>\n",
       "<polyline fill=\"none\" points=\"213,-332.5 213,-378.5 \" stroke=\"black\"/>\n",
       "<text font-family=\"Times New Roman,serif\" font-size=\"14.00\" text-anchor=\"middle\" x=\"254.5\" y=\"-363.3\">(None, 256)</text>\n",
       "<polyline fill=\"none\" points=\"213,-355.5 296,-355.5 \" stroke=\"black\"/>\n",
       "<text font-family=\"Times New Roman,serif\" font-size=\"14.00\" text-anchor=\"middle\" x=\"254.5\" y=\"-340.3\">(None, 256)</text>\n",
       "</g>\n",
       "<!-- 1902107400232&#45;&gt;1902112496944 -->\n",
       "<g class=\"edge\" id=\"edge2\"><title>1902107400232-&gt;1902112496944</title>\n",
       "<path d=\"M152.5,-415.366C152.5,-407.152 152.5,-397.658 152.5,-388.725\" fill=\"none\" stroke=\"black\"/>\n",
       "<polygon fill=\"black\" points=\"156,-388.607 152.5,-378.607 149,-388.607 156,-388.607\" stroke=\"black\"/>\n",
       "</g>\n",
       "<!-- 1902112566520 -->\n",
       "<g class=\"node\" id=\"node4\"><title>1902112566520</title>\n",
       "<polygon fill=\"none\" points=\"31,-249.5 31,-295.5 274,-295.5 274,-249.5 31,-249.5\" stroke=\"black\"/>\n",
       "<text font-family=\"Times New Roman,serif\" font-size=\"14.00\" text-anchor=\"middle\" x=\"83\" y=\"-268.8\">dense_2: Dense</text>\n",
       "<polyline fill=\"none\" points=\"135,-249.5 135,-295.5 \" stroke=\"black\"/>\n",
       "<text font-family=\"Times New Roman,serif\" font-size=\"14.00\" text-anchor=\"middle\" x=\"163\" y=\"-280.3\">input:</text>\n",
       "<polyline fill=\"none\" points=\"135,-272.5 191,-272.5 \" stroke=\"black\"/>\n",
       "<text font-family=\"Times New Roman,serif\" font-size=\"14.00\" text-anchor=\"middle\" x=\"163\" y=\"-257.3\">output:</text>\n",
       "<polyline fill=\"none\" points=\"191,-249.5 191,-295.5 \" stroke=\"black\"/>\n",
       "<text font-family=\"Times New Roman,serif\" font-size=\"14.00\" text-anchor=\"middle\" x=\"232.5\" y=\"-280.3\">(None, 256)</text>\n",
       "<polyline fill=\"none\" points=\"191,-272.5 274,-272.5 \" stroke=\"black\"/>\n",
       "<text font-family=\"Times New Roman,serif\" font-size=\"14.00\" text-anchor=\"middle\" x=\"232.5\" y=\"-257.3\">(None, 100)</text>\n",
       "</g>\n",
       "<!-- 1902112496944&#45;&gt;1902112566520 -->\n",
       "<g class=\"edge\" id=\"edge3\"><title>1902112496944-&gt;1902112566520</title>\n",
       "<path d=\"M152.5,-332.366C152.5,-324.152 152.5,-314.658 152.5,-305.725\" fill=\"none\" stroke=\"black\"/>\n",
       "<polygon fill=\"black\" points=\"156,-305.607 152.5,-295.607 149,-305.607 156,-305.607\" stroke=\"black\"/>\n",
       "</g>\n",
       "<!-- 1902112566352 -->\n",
       "<g class=\"node\" id=\"node5\"><title>1902112566352</title>\n",
       "<polygon fill=\"none\" points=\"9,-166.5 9,-212.5 296,-212.5 296,-166.5 9,-166.5\" stroke=\"black\"/>\n",
       "<text font-family=\"Times New Roman,serif\" font-size=\"14.00\" text-anchor=\"middle\" x=\"83\" y=\"-185.8\">activation_2: Activation</text>\n",
       "<polyline fill=\"none\" points=\"157,-166.5 157,-212.5 \" stroke=\"black\"/>\n",
       "<text font-family=\"Times New Roman,serif\" font-size=\"14.00\" text-anchor=\"middle\" x=\"185\" y=\"-197.3\">input:</text>\n",
       "<polyline fill=\"none\" points=\"157,-189.5 213,-189.5 \" stroke=\"black\"/>\n",
       "<text font-family=\"Times New Roman,serif\" font-size=\"14.00\" text-anchor=\"middle\" x=\"185\" y=\"-174.3\">output:</text>\n",
       "<polyline fill=\"none\" points=\"213,-166.5 213,-212.5 \" stroke=\"black\"/>\n",
       "<text font-family=\"Times New Roman,serif\" font-size=\"14.00\" text-anchor=\"middle\" x=\"254.5\" y=\"-197.3\">(None, 100)</text>\n",
       "<polyline fill=\"none\" points=\"213,-189.5 296,-189.5 \" stroke=\"black\"/>\n",
       "<text font-family=\"Times New Roman,serif\" font-size=\"14.00\" text-anchor=\"middle\" x=\"254.5\" y=\"-174.3\">(None, 100)</text>\n",
       "</g>\n",
       "<!-- 1902112566520&#45;&gt;1902112566352 -->\n",
       "<g class=\"edge\" id=\"edge4\"><title>1902112566520-&gt;1902112566352</title>\n",
       "<path d=\"M152.5,-249.366C152.5,-241.152 152.5,-231.658 152.5,-222.725\" fill=\"none\" stroke=\"black\"/>\n",
       "<polygon fill=\"black\" points=\"156,-222.607 152.5,-212.607 149,-222.607 156,-222.607\" stroke=\"black\"/>\n",
       "</g>\n",
       "<!-- 1902115694744 -->\n",
       "<g class=\"node\" id=\"node6\"><title>1902115694744</title>\n",
       "<polygon fill=\"none\" points=\"31,-83.5 31,-129.5 274,-129.5 274,-83.5 31,-83.5\" stroke=\"black\"/>\n",
       "<text font-family=\"Times New Roman,serif\" font-size=\"14.00\" text-anchor=\"middle\" x=\"83\" y=\"-102.8\">dense_3: Dense</text>\n",
       "<polyline fill=\"none\" points=\"135,-83.5 135,-129.5 \" stroke=\"black\"/>\n",
       "<text font-family=\"Times New Roman,serif\" font-size=\"14.00\" text-anchor=\"middle\" x=\"163\" y=\"-114.3\">input:</text>\n",
       "<polyline fill=\"none\" points=\"135,-106.5 191,-106.5 \" stroke=\"black\"/>\n",
       "<text font-family=\"Times New Roman,serif\" font-size=\"14.00\" text-anchor=\"middle\" x=\"163\" y=\"-91.3\">output:</text>\n",
       "<polyline fill=\"none\" points=\"191,-83.5 191,-129.5 \" stroke=\"black\"/>\n",
       "<text font-family=\"Times New Roman,serif\" font-size=\"14.00\" text-anchor=\"middle\" x=\"232.5\" y=\"-114.3\">(None, 100)</text>\n",
       "<polyline fill=\"none\" points=\"191,-106.5 274,-106.5 \" stroke=\"black\"/>\n",
       "<text font-family=\"Times New Roman,serif\" font-size=\"14.00\" text-anchor=\"middle\" x=\"232.5\" y=\"-91.3\">(None, 10)</text>\n",
       "</g>\n",
       "<!-- 1902112566352&#45;&gt;1902115694744 -->\n",
       "<g class=\"edge\" id=\"edge5\"><title>1902112566352-&gt;1902115694744</title>\n",
       "<path d=\"M152.5,-166.366C152.5,-158.152 152.5,-148.658 152.5,-139.725\" fill=\"none\" stroke=\"black\"/>\n",
       "<polygon fill=\"black\" points=\"156,-139.607 152.5,-129.607 149,-139.607 156,-139.607\" stroke=\"black\"/>\n",
       "</g>\n",
       "<!-- 1902115695920 -->\n",
       "<g class=\"node\" id=\"node7\"><title>1902115695920</title>\n",
       "<polygon fill=\"none\" points=\"12,-0.5 12,-46.5 293,-46.5 293,-0.5 12,-0.5\" stroke=\"black\"/>\n",
       "<text font-family=\"Times New Roman,serif\" font-size=\"14.00\" text-anchor=\"middle\" x=\"86\" y=\"-19.8\">activation_3: Activation</text>\n",
       "<polyline fill=\"none\" points=\"160,-0.5 160,-46.5 \" stroke=\"black\"/>\n",
       "<text font-family=\"Times New Roman,serif\" font-size=\"14.00\" text-anchor=\"middle\" x=\"188\" y=\"-31.3\">input:</text>\n",
       "<polyline fill=\"none\" points=\"160,-23.5 216,-23.5 \" stroke=\"black\"/>\n",
       "<text font-family=\"Times New Roman,serif\" font-size=\"14.00\" text-anchor=\"middle\" x=\"188\" y=\"-8.3\">output:</text>\n",
       "<polyline fill=\"none\" points=\"216,-0.5 216,-46.5 \" stroke=\"black\"/>\n",
       "<text font-family=\"Times New Roman,serif\" font-size=\"14.00\" text-anchor=\"middle\" x=\"254.5\" y=\"-31.3\">(None, 10)</text>\n",
       "<polyline fill=\"none\" points=\"216,-23.5 293,-23.5 \" stroke=\"black\"/>\n",
       "<text font-family=\"Times New Roman,serif\" font-size=\"14.00\" text-anchor=\"middle\" x=\"254.5\" y=\"-8.3\">(None, 10)</text>\n",
       "</g>\n",
       "<!-- 1902115694744&#45;&gt;1902115695920 -->\n",
       "<g class=\"edge\" id=\"edge6\"><title>1902115694744-&gt;1902115695920</title>\n",
       "<path d=\"M152.5,-83.3664C152.5,-75.1516 152.5,-65.6579 152.5,-56.7252\" fill=\"none\" stroke=\"black\"/>\n",
       "<polygon fill=\"black\" points=\"156,-56.6068 152.5,-46.6068 149,-56.6069 156,-56.6068\" stroke=\"black\"/>\n",
       "</g>\n",
       "</g>\n",
       "</svg>"
      ],
      "text/plain": [
       "<IPython.core.display.SVG object>"
      ]
     },
     "execution_count": 7,
     "metadata": {},
     "output_type": "execute_result"
    }
   ],
   "source": [
    "from IPython.display import SVG\n",
    "from keras.utils.vis_utils import model_to_dot\n",
    "\n",
    "SVG(model_to_dot(model, show_shapes=True).create(prog='dot', format='svg'))"
   ]
  },
  {
   "cell_type": "code",
   "execution_count": null,
   "metadata": {},
   "outputs": [],
   "source": []
  }
 ],
 "metadata": {
  "kernelspec": {
   "display_name": "Python 3",
   "language": "python",
   "name": "python3"
  },
  "language_info": {
   "codemirror_mode": {
    "name": "ipython",
    "version": 3
   },
   "file_extension": ".py",
   "mimetype": "text/x-python",
   "name": "python",
   "nbconvert_exporter": "python",
   "pygments_lexer": "ipython3",
   "version": "3.6.4"
  }
 },
 "nbformat": 4,
 "nbformat_minor": 2
}
