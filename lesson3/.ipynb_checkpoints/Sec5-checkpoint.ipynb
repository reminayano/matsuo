{
 "cells": [
  {
   "cell_type": "markdown",
   "metadata": {},
   "source": [
    "## Section5 ケーススタディ\n",
    "\n",
    "最後に、いくつかのRNNやLSTMの応用例について触れておく。\n",
    "\n",
    "すでに見てきた通り、純粋に系列データの予測あるいは分類に使用することが出来るので、株価予測や文章等の感情分類への適用はよく見られる。\n",
    "\n",
    "ここでは、その他の応用例として、\n",
    "\n",
    "1. 時系列データの異常検知\n",
    "1. 画像との組み合わせ\n",
    "\n",
    "について触れる。\n",
    "\n",
    "### 5.1 時系列データの異常検知\n",
    "\n",
    "異常検知や変化検知は株式市場や気象のみならず、製造業等においても重要な適用範囲の広い技術\n",
    "\n",
    "この異常検知のLSTMを用いたモデルによる取り組みには次のようなものがある。\n",
    "\n",
    "P. Malhotra, L. Vig, G. Shroff, P. Agarwal, \"Long Short Term Memory Networks for Anomaly Detection in Time Series,\" 2015. ( https://www.elen.ucl.ac.be/Proceedings/esann/esannpdf/es2015-56.pdf )\n",
    "\n",
    "通常の時系列データによって学習したモデルを用い、異常データを含むテストデータに対して予測を行っている。\n",
    "\n",
    "この予測とテストデータの差から、異常である可能性を算出している。\n",
    "\n",
    "![anomaly](https://github.com/reminayano/matsuo/blob/master/lesson3/figures/anomaly.png?raw=true)\n",
    "\n",
    "### 5.2 画像との組み合わせ\n",
    "\n",
    "動画を用いる場合、CNN等の画像向きなモデルと時系列に向くRNNやLSTMを組み合わせた取り組みも多く存在する。\n",
    "\n",
    "例えば、次の論文ではロボットアームの制御データとその動作を移したカメラ画像を組み合わせた入力を用いている。\n",
    "\n",
    "C. Finn, I. Goodfellow, S. Levine, \"Unsupervised Learning for Physical Interaction through Video Prediction,\" 2016. ( https://arxiv.org/pdf/1605.07157.pdf )\n",
    "\n",
    "この論文では、CNNやCNNとLSTMを組み合わせたconvolutional LSTMを用いて、入力データを学習している。\n",
    "\n",
    "また、実際に入力データを変化させることで、出力される画像(ロボットアームの動き)を変化させることに成功している。\n",
    "\n",
    "![robotics1](https://github.com/reminayano/matsuo/blob/master/lesson3/figures/robotics1.png?raw=true)\n"
   ]
  },
  {
   "cell_type": "code",
   "execution_count": null,
   "metadata": {},
   "outputs": [],
   "source": []
  },
  {
   "cell_type": "code",
   "execution_count": null,
   "metadata": {},
   "outputs": [],
   "source": []
  }
 ],
 "metadata": {
  "kernelspec": {
   "display_name": "Python 3",
   "language": "python",
   "name": "python3"
  },
  "language_info": {
   "codemirror_mode": {
    "name": "ipython",
    "version": 3
   },
   "file_extension": ".py",
   "mimetype": "text/x-python",
   "name": "python",
   "nbconvert_exporter": "python",
   "pygments_lexer": "ipython3",
   "version": "3.6.4"
  }
 },
 "nbformat": 4,
 "nbformat_minor": 2
}
