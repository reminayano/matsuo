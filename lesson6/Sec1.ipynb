{
 "cells": [
  {
   "cell_type": "markdown",
   "metadata": {},
   "source": [
    "# Lesson6 ニューラルネットに画像を生成させる"
   ]
  },
  {
   "cell_type": "code",
   "execution_count": 1,
   "metadata": {},
   "outputs": [
    {
     "name": "stderr",
     "output_type": "stream",
     "text": [
      "C:\\Users\\yanor\\Anaconda3\\envs\\matsuo\\lib\\site-packages\\h5py\\__init__.py:36: FutureWarning: Conversion of the second argument of issubdtype from `float` to `np.floating` is deprecated. In future, it will be treated as `np.float64 == np.dtype(float).type`.\n",
      "  from ._conv import register_converters as _register_converters\n",
      "Using TensorFlow backend.\n"
     ]
    }
   ],
   "source": [
    "# MNISTのロードと表示のための関数です。後で使うので読み込んでおいて下さい。\n",
    "from keras.datasets import mnist\n",
    "from keras.datasets import fashion_mnist\n",
    "import numpy as np\n",
    "import matplotlib.pyplot as plt\n",
    "%matplotlib inline\n",
    "\n",
    "def load_mnist(dim=3, data='mnist'):\n",
    "    img_rows, img_cols = 28, 28\n",
    "    \n",
    "    if data == 'mnist':\n",
    "        (x_train, y_train), (x_test, y_test) = mnist.load_data()\n",
    "    else:\n",
    "        (x_train, y_train), (x_test, y_test) = fashion_mnist.load_data()\n",
    "    \n",
    "    if dim == 3:\n",
    "        x_train = x_train.reshape(x_train.shape[0], img_rows, img_cols, 1)\n",
    "        x_test = x_test.reshape(x_test.shape[0], img_rows, img_cols, 1)\n",
    "    else:\n",
    "        x_train = x_train.reshape(x_train.shape[0], img_rows*img_cols)\n",
    "        x_test = x_test.reshape(x_test.shape[0], img_rows*img_cols)\n",
    "        \n",
    "    x_train = x_train.astype('float32') / 255\n",
    "    x_test = x_test.astype('float32') / 255\n",
    "    y_train = np.eye(10)[y_train]\n",
    "    y_test = np.eye(10)[y_test]\n",
    "    \n",
    "    return  x_train, x_test, y_train, y_test\n",
    "\n",
    "def plot_mnist(n_ex=10,dim=(2,5), figsize=(8,4)):\n",
    "    noise = np.random.uniform(0,1,size=[n_ex,100])\n",
    "    generated_images = generator.predict(noise)\n",
    "\n",
    "    plt.figure(figsize=figsize)\n",
    "    for i in range(generated_images.shape[0]):\n",
    "        plt.subplot(dim[0],dim[1],i+1)\n",
    "        img = generated_images[i,:,:, 0]\n",
    "        plt.imshow(img, cmap='binary')\n",
    "        plt.axis('off')\n",
    "    plt.tight_layout()\n",
    "    plt.show()"
   ]
  },
  {
   "cell_type": "markdown",
   "metadata": {},
   "source": [
    "## Section1 解説\n",
    "\n",
    "### 1.1 深層生成モデル\n",
    "\n",
    "この回では**深層生成モデル**を用いて画像を生成する。\n",
    "\n",
    "生成モデルとは「データセットを生成する確率分布をモデル化するアプローチ」となる。今回は、深層生成モデルの中でも代表的な**Generative Adversarial Network(GAN)**とよばれるモデルを使って画像を生成する。\n",
    "\n",
    "生成モデルを用いると、データセットが持つ抽象的な表現をモデル化しそのデータセットにありそうなデータを生成することが出来る。言葉を変えると、データセットを生成する確率分布を学習することになる。\n",
    "\n",
    "例えば、MNISTの手書き文字のデータセットの特徴、つまり「手書きの数字」の特徴を捉え、似たような画像を生成することが出来る。\n",
    "\n",
    "生成モデルの利用方法としては、「サンプリング」「密度推定」「欠損値補完」などがある。\n",
    "- サンプリング : 確率モデルを利用して未知のデータを生成できる。\n",
    "- 密度推定 : 外れ値検知や異常検知などに用いらえれる。\n",
    "- 欠損値補完 : 欠損のあるデータを入力して真のデータの推定値が得られる。\n",
    "\n",
    "等が考えられる。特にサンプリングで未知のデータを生成することから「生成モデル」とよばれている。\n",
    "\n",
    "なお、今回は画像の生成を扱うが、生成モデル自体は画像の生成に限定されない。\n",
    "\n",
    "まずは、ニューラルネットがMNISTの手書き文字を生成できるように学習させてみる。\n",
    "\n",
    "### 1.2 GAN\n",
    "\n",
    "#### 1.2.1 GANの概要\n",
    "\n",
    "GANではGeneratorとDiscriminatorとよばれる2つのネットワークが登場する。\n",
    "\n",
    "Generatorはデータセットと同じような画像を生成しようとする。一方、Discriminatorは入力画像がデータセットの中にある本物の画像かGeneratorが生成した偽物の画像かどうかを判定する。\n",
    "\n",
    "GeneratorはよりDiscriminatorをだますことのできる本物に近いデータを生成しようと学習し、Discriminatorは真偽を見分けることが出来るように学習する。この両ネットワークの相乗効果によってGeneratorにはデータセットにある画像と似ている画像が生成されることが期待される。\n",
    "\n",
    "GANは比較的くっきりとした画像が生成されることが特徴にあるが、学習が不安定なところが短所である。\n",
    "\n",
    "![gan1](https://github.com/reminayano/matsuo/blob/master/lesson6/figures/gan1.png?raw=true)\n",
    "\n",
    "次に具体的にどのように学習を進めていくかを数式を交えて説明する。\n",
    "\n",
    "$$\n",
    "\\min_G \\max_D V(D, G) = E_{x〜P_{data}(x)}[logD(x)] +  E_{z〜P_{data}(z)}[log(1-D(G(z)))]\n",
    "$$\n",
    "\n",
    "Discriminatorの出力の$D(x)$ は入力画像が訓練データのものであるかどうかの予測確率を表している。Discriminatorは$D(x)$ を最大化。また$G(z)$ は生成されたデータなので$log(1-D(G(z)))$ の最大化を行う。Generatorは逆に最小化を行う。\n",
    "\n",
    "つまり、\n",
    "\n",
    "1. Generatorは、学習においてDiscriminatorの学習とは独立に$V(D, G)$ を最小化するように学習する。\n",
    "1. Discriminatorは、学習においてGeneratorの学習とは独立に$V(D, G)$ を最大化するように学習する。\n",
    "\n",
    "学習を交互に行うことで両者の学習を進めていくことになる。\n",
    "\n",
    "なお、GANの収束性については現在も研究が進められているが、依然として学習が不安定なので、ネットワークを設計する際は、論文のネットワークの形をそのまま利用したる、実際の実装コードを参考にしたりするとよい。\n",
    "\n",
    "これから具体的な実装を見ていく。\n",
    "\n",
    "#### 1.2.2 Generator\n",
    "\n",
    "まず、Generatorのネットワークを構築する。\n",
    "\n",
    "Generatorではランダムに生成したノイズからデータセットにあるような本物っぽい画像を生成することが目的。つまり、出力した画像に対してDiscriminatorが本物と勘違いするように学習する。\n",
    "\n",
    "ここでは、要素100のノイズを入力として、サイズ28×28でチャンネル1の画像を出力している。\n",
    "\n",
    "Generatorの中にはUpSampling2Dというレイヤーが登場するが、通常の畳み込みの逆演算として使用している。つまり、入力のwidth及びheightを増加させるように作用する。\n"
   ]
  },
  {
   "cell_type": "code",
   "execution_count": 2,
   "metadata": {},
   "outputs": [],
   "source": [
    "from keras.layers import Input, Reshape, Dense, Flatten, Activation, Conv2D, UpSampling2D, BatchNormalization\n",
    "from keras.models import Model\n",
    "\n",
    "def Generator():\n",
    "    nch = 200\n",
    "    model_input = Input(shape=[100])\n",
    "    x = Dense(nch*14*14, kernel_initializer='glorot_normal')(model_input) # 100 -> 200*14*14\n",
    "    x = BatchNormalization()(x)\n",
    "    x = Activation('relu')(x)\n",
    "    x = Reshape( [14, 14, nch] )(x) # 200*14*14 -> 14x14x200 (width)x(height)x(channel)\n",
    "    x = UpSampling2D(size=(2, 2))(x) # 14x14x200 -> 28x28x200\n",
    "    x = Conv2D(int(nch/2), (3, 3), padding='same', kernel_initializer='glorot_uniform')(x) # 28x28x200 -> 28x28x100\n",
    "    x = BatchNormalization()(x)\n",
    "    x = Activation('relu')(x)\n",
    "    x = Conv2D(int(nch/4), (3, 3), padding='same', kernel_initializer='glorot_uniform')(x) # 28x28x100 -> 28x28x50\n",
    "    x = BatchNormalization()(x)\n",
    "    x = Activation('relu')(x)\n",
    "    x = Conv2D(1, (1, 1), padding='same', kernel_initializer='glorot_uniform')(x) # 28x28x50 -> 28x28x1\n",
    "    model_output = Activation('sigmoid')(x)\n",
    "    model = Model(model_input, model_output)\n",
    "#     model.summary()\n",
    "    \n",
    "    return model"
   ]
  },
  {
   "cell_type": "markdown",
   "metadata": {},
   "source": [
    "#### 1.2.3 Discriminator\n",
    "\n",
    "次にDiscriminatorのネットワークを構築する。\n",
    "\n",
    "データセットの画像が入力されれば本物であると、Generatorによって出力されたデータであれば偽物であると判定するように学習させる。\n",
    "\n",
    "入力としてはサイズ28×28でチャネル1の画像を入力にして、その画像がデータセットにある本物のデータかどうかを2値で出力する。\n",
    "\n",
    "なお、DiscriminatorのActivationとしては、LeakyReLUを利用するとよい結果が出る(参照：https://arxiv.org/abs/1511.06434 )ので、LeakyReLUを使用する。(LeakyReLUはReLUの負の領域に対しても微小な勾配を可能にするReLUの特別版)"
   ]
  },
  {
   "cell_type": "code",
   "execution_count": 3,
   "metadata": {},
   "outputs": [],
   "source": [
    "from keras.layers import Input, Reshape, Dense, Dropout, Flatten, LeakyReLU, Conv2D, BatchNormalization\n",
    "from keras.optimizers import Adam\n",
    "from keras.models import Model\n",
    "\n",
    "def Discriminator(shape, dropout_rate=0.25, opt=Adam(lr=1e-4)):\n",
    "    model_input = Input(shape=shape) # 28x28x1\n",
    "    x = Conv2D(256, (5, 5), padding = 'same', kernel_initializer='glorot_uniform', strides=(2, 2))(model_input) # 28x28x1 -> 14x14x256\n",
    "    x = LeakyReLU(0.2)(x)\n",
    "    x = Dropout(dropout_rate)(x)\n",
    "    x = Conv2D(512, (5, 5), padding = 'same', kernel_initializer='glorot_uniform', strides=(2, 2))(x) # 14x14x256 -> 7x7x512\n",
    "    x = LeakyReLU(0.2)(x)\n",
    "    x = Dropout(dropout_rate)(x)\n",
    "    x = Flatten()(x) # 7x7x512 -> 7*7*512\n",
    "    x = Dense(256)(x) # 7*7*512 -> 256\n",
    "    x = LeakyReLU(0.2)(x)\n",
    "    x = Dropout(dropout_rate)(x)\n",
    "    model_output = Dense(2,activation='softmax')(x) # 256 -> 2\n",
    "    model = Model(model_input, model_output)\n",
    "    model.compile(loss='categorical_crossentropy', optimizer=opt)\n",
    "    # model.summary()\n",
    "    \n",
    "    return model"
   ]
  },
  {
   "cell_type": "markdown",
   "metadata": {},
   "source": [
    "#### 1.2.4 GANの学習\n",
    "\n",
    "conbined_networkの関数はgeneratorの学習時に使用する。Generatorの学習ではDiscriminatorの出力を目的関数とするので、GeneratorとDiscriminatorを繋げたネットワークで学習する必要がある。"
   ]
  },
  {
   "cell_type": "code",
   "execution_count": 4,
   "metadata": {},
   "outputs": [],
   "source": [
    "from keras.layers import Input\n",
    "from keras.models import Model\n",
    "\n",
    "def combined_network(generator, discriminator, opt=Adam(lr=1e-3)):\n",
    "    gan_input = Input(shape=[100])\n",
    "    x = generator(gan_input)\n",
    "    gan_output = discriminator(x)\n",
    "    model = Model(gan_input, gan_output)\n",
    "    model.compile(loss='categorical_crossentropy', optimizer=opt)\n",
    "    # model.summary()\n",
    "    \n",
    "    return model"
   ]
  },
  {
   "cell_type": "markdown",
   "metadata": {},
   "source": [
    "次に、モデルの学習を制御する関数のmake_trainableを定義する。\n",
    "\n",
    "GeneratorとDiscriminatorはそれぞれ独立に学習をするため、combined_networkでGeneratorの学習を目的とする場合、Discriminatorが一緒に学習をしないようにする必要がある。そのときに利用するのがmake_trainable関数である。\n",
    "\n",
    "Discriminatorの各Layerのtrainableというメソッドの値をすべてFalseにすることができ、パラメータを更新しないようにすることができる。この後のtrain関数内で使用する。"
   ]
  },
  {
   "cell_type": "code",
   "execution_count": 5,
   "metadata": {},
   "outputs": [],
   "source": [
    "def make_trainable(net, val):\n",
    "    net.trainable = val\n",
    "    for l in net.layers:\n",
    "        l.trainable = val"
   ]
  },
  {
   "cell_type": "markdown",
   "metadata": {},
   "source": [
    "以下のtrain関数で実際に学習を進めていく。\n",
    "\n",
    "train関数内では以下のような学習を各バッチごとに行う。\n",
    "\n",
    "1. バッチの学習で利用する画像の選択\n",
    "1. Discriminatorの学習をonに切り替える\n",
    "1. Generatorによる学習をonに切り替える\n",
    "1. Discriminatorの学習をoffに切り替える\n",
    "1. Generatorの学習\n"
   ]
  },
  {
   "cell_type": "code",
   "execution_count": 6,
   "metadata": {},
   "outputs": [],
   "source": [
    "from tqdm import tqdm\n",
    "\n",
    "def train(step=3000, BATCH_SIZE=128):\n",
    "    for e in tqdm(range(step)):\n",
    "        # 1. バッチの学習で利用する画像の選択 \n",
    "        # バッチサイズの分だけランダムに画像を選択\n",
    "        image_batch = X_train[np.random.randint(0,X_train.shape[0],size=BATCH_SIZE),:,:,:]\n",
    "        \n",
    "        # バッチサイズの分だけランダムにノイズを生成し、generatorにより画像を生成\n",
    "        noise_gen = np.random.uniform(0,1,size=[BATCH_SIZE,100])\n",
    "        generated_images = generator.predict(noise_gen)\n",
    "        \n",
    "        # 2. Discriminatorの学習をonに切り替える\n",
    "        # Discriminatorが学習するように変更\n",
    "        make_trainable(discriminator,True)\n",
    "        \n",
    "        # 3. Generatorによる生成画像を用いてDiscriminatorの学習\n",
    "        # X = (バッチサイズ分のデータセットの画像, バッチサイズ分の生成画像)\n",
    "        X = np.concatenate((image_batch, generated_images))\n",
    "        \n",
    "        # y = (バッチサイズ分のTrue(本物), バッチサイズ分のFalse(偽物))\n",
    "        y = np.zeros([2*BATCH_SIZE,2])\n",
    "        y[:BATCH_SIZE,1] = 1\n",
    "        y[BATCH_SIZE:,0] = 1      \n",
    "        \n",
    "        # Discriminatorのtrain\n",
    "        discriminator.train_on_batch(X,y)\n",
    "        \n",
    "        # 4. Discriminatorの学習をoffに切り替える\n",
    "        # Discriminatorが学習しないように変更\n",
    "        make_trainable(discriminator,False)\n",
    "    \n",
    "        # 5. Generatorの学習\n",
    "        # バッチサイズの分だけランダムにノイズを生成\n",
    "        noise_gen = np.random.uniform(0,1,size=[BATCH_SIZE,100])\n",
    "        \n",
    "        # y = (バッチサイズ分のTrue(本物))\n",
    "        # 実際には生成した画像なのでDiscriminatorとしては偽物と判断すべきだが、Genaratorの学習なので生成した画像を本物と判断するように学習させる\n",
    "        y2 = np.zeros([BATCH_SIZE,2])\n",
    "        y2[:,1] = 1\n",
    "        \n",
    "        # Generatorのtrain\n",
    "        GAN.train_on_batch(noise_gen, y2 )\n"
   ]
  },
  {
   "cell_type": "markdown",
   "metadata": {},
   "source": [
    "#### 1.2.5 MNISTによる学習"
   ]
  },
  {
   "cell_type": "code",
   "execution_count": 7,
   "metadata": {},
   "outputs": [],
   "source": [
    "# データのロード\n",
    "X_train, _,_,_ = load_mnist()\n",
    "# それぞれのネットワークのインスタンスを生成\n",
    "generator = Generator()\n",
    "discriminator = Discriminator(X_train.shape[1:])\n",
    "make_trainable(discriminator, False)\n",
    "GAN = combined_network(generator, discriminator)"
   ]
  },
  {
   "cell_type": "code",
   "execution_count": null,
   "metadata": {},
   "outputs": [],
   "source": [
    "# このセルは実行時間長いのでやってない(24時間以上？)\n",
    "# train関数で学習を行うstepを大きくすると学習をより多く行います\n",
    "\n",
    "train()"
   ]
  },
  {
   "cell_type": "markdown",
   "metadata": {},
   "source": [
    "#### 1.2.6 手書き文字の生成\n",
    "\n",
    "学習が完了したら、実際にランダムのノイズから手書き文字のような画像が出力されるかを表示して確認してみる。"
   ]
  },
  {
   "cell_type": "code",
   "execution_count": null,
   "metadata": {},
   "outputs": [],
   "source": [
    "plot_mnist()"
   ]
  }
 ],
 "metadata": {
  "kernelspec": {
   "display_name": "Python 3",
   "language": "python",
   "name": "python3"
  },
  "language_info": {
   "codemirror_mode": {
    "name": "ipython",
    "version": 3
   },
   "file_extension": ".py",
   "mimetype": "text/x-python",
   "name": "python",
   "nbconvert_exporter": "python",
   "pygments_lexer": "ipython3",
   "version": "3.6.4"
  }
 },
 "nbformat": 4,
 "nbformat_minor": 2
}
