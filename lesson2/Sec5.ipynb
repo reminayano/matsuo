{
 "cells": [
  {
   "cell_type": "markdown",
   "metadata": {},
   "source": [
    "## Section5  ケーススタディ\n",
    "\n",
    "今回は、CNNを画像の分類問題で使用したが、単純な分類にかぎらず画像の特徴量を獲得する手法として幅広く使われている。活用例としては、画像からキャプションを生成する際の特徴抽出器や、ゲーム画像から攻略パターンを学習する際の特徴抽出器などがあげられる。\n",
    "\n",
    "![cnn_caption](https://github.com/reminayano/matsuo/blob/master/lesson2/figures/cnn_caption.png?raw=true)\n",
    "\n",
    "![cnn_dqn](https://github.com/reminayano/matsuo/blob/master/lesson2/figures/cnn_dqn.png?raw=true)\n",
    "\n",
    "さらに、画像にはとどまらず、位置情報を持つ他種類のデータに対しても応用されている。例えば、自然言語においては、文字列を2次列の画像のように見立てて畳み込んで特徴を獲得することにより、文の分類問題において高い精度を記録している。RNNにくらべて並列化がしやすく、またプーリングのおかげで文中の位置にかかわらず特徴を獲得できるので、よく利用されている。\n",
    "\n",
    "![cnn_sentence_classification](https://github.com/reminayano/matsuo/blob/master/lesson2/figures/cnn_sentence_classification.png?raw=true)\n"
   ]
  },
  {
   "cell_type": "code",
   "execution_count": null,
   "metadata": {},
   "outputs": [],
   "source": []
  }
 ],
 "metadata": {
  "kernelspec": {
   "display_name": "Python 3",
   "language": "python",
   "name": "python3"
  },
  "language_info": {
   "codemirror_mode": {
    "name": "ipython",
    "version": 3
   },
   "file_extension": ".py",
   "mimetype": "text/x-python",
   "name": "python",
   "nbconvert_exporter": "python",
   "pygments_lexer": "ipython3",
   "version": "3.6.4"
  }
 },
 "nbformat": 4,
 "nbformat_minor": 2
}
