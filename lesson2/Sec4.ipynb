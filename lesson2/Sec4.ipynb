{
 "cells": [
  {
   "cell_type": "code",
   "execution_count": 1,
   "metadata": {},
   "outputs": [
    {
     "name": "stderr",
     "output_type": "stream",
     "text": [
      "C:\\Users\\yanor\\Anaconda3\\envs\\matsuo\\lib\\site-packages\\h5py\\__init__.py:36: FutureWarning: Conversion of the second argument of issubdtype from `float` to `np.floating` is deprecated. In future, it will be treated as `np.float64 == np.dtype(float).type`.\n",
      "  from ._conv import register_converters as _register_converters\n",
      "Using TensorFlow backend.\n"
     ]
    }
   ],
   "source": [
    "%matplotlib inline\n",
    "\n",
    "import os\n",
    "\n",
    "import keras as keras\n",
    "import numpy as np\n",
    "import matplotlib.pyplot as plt\n",
    "\n",
    "from keras.layers import Dense, Conv2D, MaxPooling2D, Flatten, Input, Activation, add, Add, Dropout, BatchNormalization\n",
    "from keras.callbacks import EarlyStopping\n",
    "from keras.models import Sequential, Model\n",
    "from keras.datasets import cifar10\n",
    "from keras.datasets import fashion_mnist\n",
    "from keras.utils import to_categorical\n",
    "from sklearn.model_selection import train_test_split\n",
    "\n",
    "from IPython.display import SVG\n",
    "from keras.utils.vis_utils import model_to_dot\n",
    "from keras.preprocessing.image import ImageDataGenerator\n",
    "\n",
    "random_state = 42"
   ]
  },
  {
   "cell_type": "markdown",
   "metadata": {},
   "source": [
    "## Section4 実装②\n",
    "\n",
    "### 4.1 CIFAR10のデータをCNNでクラス分類②"
   ]
  },
  {
   "cell_type": "code",
   "execution_count": 2,
   "metadata": {},
   "outputs": [],
   "source": [
    "(x_train, y_train), (x_test, y_test) = cifar10.load_data()\n",
    "\n",
    "x_train = x_train.astype('float32') / 255\n",
    "y_train = np.eye(10)[y_train.astype('int32').flatten()]\n",
    "\n",
    "x_test = x_test.astype('float32') / 255\n",
    "y_test = np.eye(10)[y_test.astype('int32').flatten()]\n",
    "\n",
    "x_train, x_valid, y_train, y_valid = train_test_split(\n",
    "    x_train, y_train, test_size=10000)"
   ]
  },
  {
   "cell_type": "markdown",
   "metadata": {},
   "source": [
    "Section3の学習内容も踏まえて、CIFAR10のクラス分類を行う。\n",
    "\n",
    "まず、モデルの作成を行う。"
   ]
  },
  {
   "cell_type": "code",
   "execution_count": 3,
   "metadata": {},
   "outputs": [],
   "source": [
    "model = Sequential()\n",
    "\n",
    "model.add(Conv2D(6, kernel_size=(5, 5), activation='relu',\n",
    "                 kernel_initializer='he_normal', input_shape=(32, 32, 3)))  # 32x32x3 -> 28x28x6\n",
    "model.add(MaxPooling2D(pool_size=(2, 2)))  # 28x28x6 -> 14x14x6\n",
    "model.add(Conv2D(16, kernel_size=(5, 5), activation='relu',\n",
    "                 kernel_initializer='he_normal'))  # 14x14x6 -> 10x10x16\n",
    "model.add(MaxPooling2D(pool_size=(2, 2)))  # 10x10x16 -> 5x5x16\n",
    "\n",
    "model.add(Flatten())  # 5x5x16 -> 400\n",
    "model.add(Dense(120, activation='relu',\n",
    "                kernel_initializer='he_normal'))  # 400 ->120\n",
    "model.add(Dense(84, activation='relu', kernel_initializer='he_normal'))  # 120 ->84\n",
    "model.add(Dense(10, activation='softmax'))  # 84 ->10\n",
    "\n",
    "model.compile(\n",
    "    loss=keras.losses.categorical_crossentropy,\n",
    "    optimizer='adam',\n",
    "    metrics=['accuracy']\n",
    ")"
   ]
  },
  {
   "cell_type": "markdown",
   "metadata": {},
   "source": [
    "次に、Section③で学習したDataAugumentationや画像データの正規化を学習に反映させてみる。\n",
    "\n",
    "kerasのImageDataGeneratorを使用する。"
   ]
  },
  {
   "cell_type": "code",
   "execution_count": 4,
   "metadata": {},
   "outputs": [],
   "source": [
    "datagen = ImageDataGenerator(\n",
    "    width_shift_range=0.2,  # 3.1.1 左右にずらす\n",
    "    height_shift_range=0.2,  # 3.1.2 上下にずらす\n",
    "    horizontal_flip=True,  # 3.1.3 左右反転\n",
    "    # 3.2.1 Global Contrast Normalization (GCN) (Falseに設定しているのでここでは使用していない)\n",
    "    samplewise_center=False,\n",
    "    samplewise_std_normalization=False,\n",
    "    zca_whitening=False)  # 3.2.2 Zero-phase Component Analysis (ZCA) Whitening (Falseに設定しているのでここでは使用していない)"
   ]
  },
  {
   "cell_type": "code",
   "execution_count": 5,
   "metadata": {},
   "outputs": [
    {
     "name": "stdout",
     "output_type": "stream",
     "text": [
      "Epoch 1/30\n",
      "400/400 [==============================] - 257s 642ms/step - loss: 1.9186 - acc: 0.2872 - val_loss: 1.6000 - val_acc: 0.4172\n",
      "Epoch 2/30\n",
      "400/400 [==============================] - 266s 665ms/step - loss: 1.6674 - acc: 0.3889 - val_loss: 1.4742 - val_acc: 0.4599\n",
      "Epoch 3/30\n",
      "400/400 [==============================] - 218s 545ms/step - loss: 1.5932 - acc: 0.4205 - val_loss: 1.4268 - val_acc: 0.4890\n",
      "Epoch 4/30\n",
      "400/400 [==============================] - 167s 419ms/step - loss: 1.5405 - acc: 0.4398 - val_loss: 1.4361 - val_acc: 0.4784\n",
      "Epoch 5/30\n",
      "400/400 [==============================] - 191s 479ms/step - loss: 1.5006 - acc: 0.4564 - val_loss: 1.4170 - val_acc: 0.4965\n",
      "Epoch 6/30\n",
      "400/400 [==============================] - 202s 504ms/step - loss: 1.4732 - acc: 0.4679 - val_loss: 1.3284 - val_acc: 0.5248\n",
      "Epoch 7/30\n",
      "400/400 [==============================] - 229s 572ms/step - loss: 1.4376 - acc: 0.4787 - val_loss: 1.3203 - val_acc: 0.5242\n",
      "Epoch 8/30\n",
      "400/400 [==============================] - 167s 418ms/step - loss: 1.4221 - acc: 0.4866 - val_loss: 1.3505 - val_acc: 0.5148\n",
      "Epoch 9/30\n",
      "400/400 [==============================] - 167s 417ms/step - loss: 1.3944 - acc: 0.4982 - val_loss: 1.2505 - val_acc: 0.5541\n",
      "Epoch 10/30\n",
      "400/400 [==============================] - 169s 423ms/step - loss: 1.3717 - acc: 0.5098 - val_loss: 1.2702 - val_acc: 0.5509\n",
      "Epoch 11/30\n",
      "400/400 [==============================] - 190s 475ms/step - loss: 1.3614 - acc: 0.5070 - val_loss: 1.2437 - val_acc: 0.5551\n",
      "Epoch 12/30\n",
      "400/400 [==============================] - 172s 430ms/step - loss: 1.3424 - acc: 0.5168 - val_loss: 1.2549 - val_acc: 0.5481\n",
      "Epoch 13/30\n",
      "400/400 [==============================] - 153s 382ms/step - loss: 1.3362 - acc: 0.5206 - val_loss: 1.2287 - val_acc: 0.5552\n",
      "Epoch 14/30\n",
      "400/400 [==============================] - 167s 417ms/step - loss: 1.3237 - acc: 0.5252 - val_loss: 1.2471 - val_acc: 0.5557\n",
      "Epoch 15/30\n",
      "400/400 [==============================] - 159s 397ms/step - loss: 1.3036 - acc: 0.5335 - val_loss: 1.2372 - val_acc: 0.5539\n",
      "Epoch 16/30\n",
      "400/400 [==============================] - 194s 485ms/step - loss: 1.3083 - acc: 0.5313 - val_loss: 1.2316 - val_acc: 0.5527\n",
      "Epoch 17/30\n",
      "400/400 [==============================] - 209s 522ms/step - loss: 1.2905 - acc: 0.5355 - val_loss: 1.2814 - val_acc: 0.5311\n",
      "Epoch 18/30\n",
      "400/400 [==============================] - 187s 466ms/step - loss: 1.2764 - acc: 0.5435 - val_loss: 1.1549 - val_acc: 0.5867\n",
      "Epoch 19/30\n",
      "400/400 [==============================] - 217s 543ms/step - loss: 1.2757 - acc: 0.5457 - val_loss: 1.1309 - val_acc: 0.5972\n",
      "Epoch 20/30\n",
      "400/400 [==============================] - 189s 473ms/step - loss: 1.2692 - acc: 0.5461 - val_loss: 1.1867 - val_acc: 0.5802\n",
      "Epoch 21/30\n",
      "400/400 [==============================] - 224s 559ms/step - loss: 1.2555 - acc: 0.5504 - val_loss: 1.1324 - val_acc: 0.5909\n",
      "Epoch 22/30\n",
      "400/400 [==============================] - 205s 512ms/step - loss: 1.2472 - acc: 0.5521 - val_loss: 1.1307 - val_acc: 0.5957\n",
      "Epoch 23/30\n",
      "400/400 [==============================] - 144s 359ms/step - loss: 1.2347 - acc: 0.5587 - val_loss: 1.1372 - val_acc: 0.5956\n",
      "Epoch 24/30\n",
      "400/400 [==============================] - 121s 302ms/step - loss: 1.2309 - acc: 0.5624 - val_loss: 1.1508 - val_acc: 0.5896\n",
      "Epoch 25/30\n",
      "400/400 [==============================] - 117s 292ms/step - loss: 1.2306 - acc: 0.5614 - val_loss: 1.1338 - val_acc: 0.5987\n",
      "Epoch 26/30\n",
      "400/400 [==============================] - 174s 434ms/step - loss: 1.2268 - acc: 0.5620 - val_loss: 1.1570 - val_acc: 0.5871\n",
      "Epoch 27/30\n",
      "400/400 [==============================] - 175s 437ms/step - loss: 1.2230 - acc: 0.5629 - val_loss: 1.1424 - val_acc: 0.5904\n",
      "Epoch 28/30\n",
      "400/400 [==============================] - 199s 497ms/step - loss: 1.2111 - acc: 0.5688 - val_loss: 1.1111 - val_acc: 0.6013\n",
      "Epoch 29/30\n",
      "400/400 [==============================] - 216s 540ms/step - loss: 1.2035 - acc: 0.5713 - val_loss: 1.1129 - val_acc: 0.5991\n",
      "Epoch 30/30\n",
      "400/400 [==============================] - 197s 493ms/step - loss: 1.2015 - acc: 0.5721 - val_loss: 1.1616 - val_acc: 0.5867\n"
     ]
    },
    {
     "data": {
      "text/plain": [
       "<keras.callbacks.History at 0x24deec76cc0>"
      ]
     },
     "execution_count": 5,
     "metadata": {},
     "output_type": "execute_result"
    }
   ],
   "source": [
    "model.fit_generator(datagen.flow(x_train, y_train, batch_size=100),\n",
    "                    steps_per_epoch=x_train.shape[0] // 100, epochs=30, validation_data=(x_valid, y_valid))"
   ]
  },
  {
   "cell_type": "code",
   "execution_count": null,
   "metadata": {},
   "outputs": [],
   "source": []
  }
 ],
 "metadata": {
  "kernelspec": {
   "display_name": "Python 3",
   "language": "python",
   "name": "python3"
  },
  "language_info": {
   "codemirror_mode": {
    "name": "ipython",
    "version": 3
   },
   "file_extension": ".py",
   "mimetype": "text/x-python",
   "name": "python",
   "nbconvert_exporter": "python",
   "pygments_lexer": "ipython3",
   "version": "3.6.4"
  }
 },
 "nbformat": 4,
 "nbformat_minor": 2
}
